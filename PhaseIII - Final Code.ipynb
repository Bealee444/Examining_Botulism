{
  "nbformat": 4,
  "nbformat_minor": 0,
  "metadata": {
    "colab": {
      "name": "PhaseIII.ipynb",
      "provenance": [],
      "collapsed_sections": []
    },
    "kernelspec": {
      "display_name": "Python 3",
      "language": "python",
      "name": "python3"
    },
    "language_info": {
      "codemirror_mode": {
        "name": "ipython",
        "version": 3
      },
      "file_extension": ".py",
      "mimetype": "text/x-python",
      "name": "python",
      "nbconvert_exporter": "python",
      "pygments_lexer": "ipython3",
      "version": "3.7.4"
    }
  },
  "cells": [
    {
      "cell_type": "markdown",
      "metadata": {
        "id": "GJ4Xt1uf1LT7"
      },
      "source": [
        "# Final Project Phase 3 Summary\n",
        "This Jupyter Notebook (.ipynb) will serve as the skeleton file for your submission for Phase 3 of the Final Project. Complete all sections below as specified in the instructions for the project, covering all necessary details. We will use this to grade your individual code (Do this whether you are in a group or not). Good luck! <br><br>\n",
        "\n",
        "Note: To edit a Markdown cell, double-click on its text."
      ]
    },
    {
      "cell_type": "markdown",
      "metadata": {
        "id": "JEtNzYHagmon"
      },
      "source": [
        ""
      ]
    },
    {
      "cell_type": "markdown",
      "metadata": {
        "id": "tjB_SbWY1LUB"
      },
      "source": [
        "## Jupyter Notebook Quick Tips\n",
        "Here are some quick formatting tips to get you started with Jupyter Notebooks. This is by no means exhaustive, and there are plenty of articles to highlight other things that can be done. We recommend using HTML syntax for Markdown but there is also Markdown syntax that is more streamlined and might be preferable. \n",
        "<a href = \"https://towardsdatascience.com/markdown-cells-jupyter-notebook-d3bea8416671\">Here's an article</a> that goes into more detail. (Double-click on cell to see syntax)\n",
        "\n",
        "# Heading 1\n",
        "## Heading 2\n",
        "### Heading 3\n",
        "#### Heading 4\n",
        "<br>\n",
        "<b>BoldText</b> or <i>ItalicText</i>\n",
        "<br> <br>\n",
        "Math Formulas: $x^2 + y^2 = 1$\n",
        "<br> <br>\n",
        "Line Breaks are done using br enclosed in < >.\n",
        "<br><br>\n",
        "Hyperlinks are done with: <a> https://www.google.com </a> or \n",
        "<a href=\"http://www.google.com\">Google</a><br>"
      ]
    },
    {
      "cell_type": "markdown",
      "metadata": {
        "id": "tb9oVjpRDswQ"
      },
      "source": [
        "# Phase II Revisions\n",
        "\n",
        "\n",
        "Use the following cell (or more if you need them) to make any needed revisions or additions to your Phase II data cleaning. If you were not recommended to make any changes, and don't have any new data sources for Phase III, you may skip this part.\n"
      ]
    },
    {
      "cell_type": "code",
      "metadata": {
        "id": "YtV_MYeusYDd",
        "colab": {
          "base_uri": "https://localhost:8080/"
        },
        "outputId": "b08bc587-9981-4784-ce23-397bdf17a7f4"
      },
      "source": [
        "import json\n",
        "import csv\n",
        "import requests\n",
        "from bs4 import BeautifulSoup\n",
        "import re\n",
        "def data_cleaning():\n",
        "\n",
        "  the_file=\"https://data.cdc.gov/resource/5fyu-rtk3.json\"\n",
        "  please= requests.get(the_file)\n",
        "  formatted= please.json()\n",
        "  botlist=[[\"category\", \"week\", (\"year\", \"cases\")]]\n",
        "  new=[]\n",
        "  for item in formatted:\n",
        "    current=[]\n",
        "    if \"Botulism\" in item[\"disease\"]:\n",
        "      category= (item[\"disease\"].split())[1]\n",
        "      current.append(category)\n",
        "      week= item[\"mmwr_week\"]\n",
        "      current.append(week)\n",
        "      for key, value in item.items():\n",
        "        if \"total_cases_reported_for_pervious_years\" in key:\n",
        "          matching= int(value)\n",
        "          current.append(matching)\n",
        "      botlist.append(current)\n",
        "  with open(\"clean_json.csv\", \"w\", newline=\"\") as f:\n",
        "      writer = csv.writer(f)\n",
        "      writer.writerows(botlist) \n",
        "  return botlist\n",
        "\n",
        "\n",
        "\n",
        "\n",
        "\n",
        "\n",
        "############ Function Call ############\n",
        "data_cleaning()"
      ],
      "execution_count": null,
      "outputs": [
        {
          "output_type": "execute_result",
          "data": {
            "text/plain": [
              "[['category', 'week', ('year', 'cases')],\n",
              " ['total', '1', 80, 201, 195, 161, 152],\n",
              " ['foodborne', '1', 5, 31, 37, 15, 4],\n",
              " ['infant', '1', 72, 144, 138, 127, 136],\n",
              " ['other', '1', 3, 26, 20, 19, 12],\n",
              " ['foodborne', '2', 18, 31, 37, 15, 4],\n",
              " ['infant', '2', 101, 144, 138, 127, 136],\n",
              " ['total', '2', 133, 201, 195, 161, 152],\n",
              " ['other', '2', 14, 26, 20, 19, 12],\n",
              " ['infant', '3', 102, 144, 138, 127, 136],\n",
              " ['total', '3', 134, 201, 195, 161, 152],\n",
              " ['foodborne', '3', 18, 31, 37, 15, 4],\n",
              " ['other', '3', 14, 26, 20, 19, 12],\n",
              " ['infant', '4', 103, 144, 138, 127, 136],\n",
              " ['foodborne', '4', 18, 31, 37, 15, 4],\n",
              " ['other', '4', 14, 26, 20, 19, 12],\n",
              " ['total', '4', 135, 201, 195, 161, 152],\n",
              " ['infant', '5', 104, 144, 138, 127, 136],\n",
              " ['other', '5', 14, 26, 20, 19, 12],\n",
              " ['foodborne', '5', 18, 31, 37, 15, 4],\n",
              " ['total', '5', 136, 201, 195, 161, 152],\n",
              " ['other', '6', 14, 26, 20, 19, 12],\n",
              " ['infant', '6', 104, 144, 138, 127, 136],\n",
              " ['total', '6', 136, 201, 195, 161, 152],\n",
              " ['foodborne', '6', 18, 31, 37, 15, 4],\n",
              " ['infant', '7', 106, 144, 138, 127, 136],\n",
              " ['other', '7', 12, 26, 20, 19, 12],\n",
              " ['total', '7', 135, 201, 195, 161, 152],\n",
              " ['foodborne', '7', 17, 31, 37, 15, 4],\n",
              " ['other', '8', 14, 26, 20, 19, 12],\n",
              " ['total', '8', 148, 201, 195, 161, 152],\n",
              " ['foodborne', '8', 19, 31, 37, 15, 4],\n",
              " ['infant', '8', 115, 144, 138, 127, 136],\n",
              " ['total', '9', 148, 201, 195, 161, 152],\n",
              " ['foodborne', '9', 18, 31, 37, 15, 4],\n",
              " ['infant', '9', 116, 144, 138, 127, 136],\n",
              " ['other', '9', 14, 26, 20, 19, 12],\n",
              " ['total', '10', 144, 201, 195, 161, 152],\n",
              " ['other', '10', 14, 26, 20, 19, 12],\n",
              " ['infant', '10', 112, 144, 138, 127, 136],\n",
              " ['foodborne', '10', 18, 31, 37, 15, 4],\n",
              " ['total', '11', 146, 201, 195, 161, 152],\n",
              " ['foodborne', '11', 16, 31, 37, 15, 4],\n",
              " ['other', '11', 14, 26, 20, 19, 12],\n",
              " ['infant', '11', 116, 144, 138, 127, 136],\n",
              " ['foodborne', '12', 16, 31, 37, 15, 4],\n",
              " ['other', '12', 17, 26, 20, 19, 12],\n",
              " ['total', '12', 149, 201, 195, 161, 152],\n",
              " ['infant', '12', 116, 144, 138, 127, 136],\n",
              " ['foodborne', '13', 16, 31, 37, 15, 4],\n",
              " ['other', '13', 18, 26, 20, 19, 12],\n",
              " ['total', '13', 151, 201, 195, 161, 152],\n",
              " ['infant', '13', 117, 144, 138, 127, 136],\n",
              " ['foodborne', '14', 16, 31, 37, 15, 4],\n",
              " ['other', '14', 18, 26, 20, 19, 12],\n",
              " ['total', '14', 151, 201, 195, 161, 152],\n",
              " ['infant', '14', 117, 144, 138, 127, 136],\n",
              " ['other', '15', 18, 26, 20, 19, 12],\n",
              " ['infant', '15', 117, 144, 138, 127, 136],\n",
              " ['foodborne', '15', 16, 31, 37, 15, 4],\n",
              " ['total', '15', 151, 201, 195, 161, 152],\n",
              " ['total', '16', 154, 201, 195, 161, 152],\n",
              " ['infant', '16', 117, 144, 138, 127, 136],\n",
              " ['foodborne', '16', 18, 31, 37, 15, 4]]"
            ]
          },
          "metadata": {},
          "execution_count": 19
        }
      ]
    },
    {
      "cell_type": "markdown",
      "metadata": {
        "id": "E5IgIeLI9Kw2"
      },
      "source": [
        "# Inconsistency Revisions\n",
        " **If you were requested to revise your inconsistency section from Phase II, enter your responses here. Otherwise, ignore this section.**\n",
        "\n",
        "For each inconsistency (NaN, null, duplicate values, empty strings, etc.) you discover in your datasets, write at least 2 sentences stating the significance, how you identified it, and how you handled it.\n",
        "\n",
        "1. When orginally cleaning this data set we had put the year and number of cases into tuples within each list in the list of lists. When later trying to work with that data we realized that it did not trandfer well into the pandas data frame nor was it able to meaningfully anallyzed. Therefore for the purpose of phase three we unpacked those tuples and reorganized our data.\n",
        "\n"
      ]
    },
    {
      "cell_type": "markdown",
      "metadata": {
        "id": "8SQxJGDUs1gw"
      },
      "source": [
        "## Data Sources\n",
        "\n",
        "Include sources (as links) to your datasets. If any of these are different from your sources used in Phase II, please <b>clearly</b> specify.\n",
        "\n",
        "All Data sets are the same.\n",
        "\n",
        "*  Downloaded Dataset Source #1: https://data.cdc.gov/NNDSS/NNDSS-Table-I-infrequently-reported-notifiable-dis/5fyu-rtk3\n",
        "*  Web Collection #1 Source: https://www.cdc.gov/botulism/surv/2017/index.html\n",
        "*  Web Collection #2 Source: https://data.cdc.gov/resource/5fyu-rtk3.json\n",
        "*  Downloaded Dataset Source #2: https://data.cdc.gov/api/vies/66i6-hisz/rows.csv?\n",
        "\n"
      ]
    },
    {
      "cell_type": "markdown",
      "metadata": {
        "id": "A-CWo6kwvFvS"
      },
      "source": [
        "# Data Analysis\n",
        "For the Data Analysis section, you are required to utilize your data to complete the following:\n",
        "\n",
        "*   Create at least 5 insights\n",
        "*   Generate at least 3 data visualizations\n",
        "*   Export aggregated data to at least 1 summary file \n",
        "\n",
        "Create a function for each of the following sections mentioned above. Do not forget to fill out the explanation section for each function. \n",
        "\n",
        "Make sure your data analysis is not too simple. Performing complex aggregation and using modules not taught in class shows effort, which will increase the chance of receiving full credit. "
      ]
    },
    {
      "cell_type": "markdown",
      "metadata": {
        "id": "7GzggCBoxwGA"
      },
      "source": [
        "# Graphical User Interface (GUI) Implementation\n",
        "If you decide to create a GUI for Phase II, please create a separate Python file (.py) to build your GUI. You must submit both the completed PhaseIII.ipynb and your Python GUI file."
      ]
    },
    {
      "cell_type": "markdown",
      "metadata": {
        "id": "VWv36q-Owkbi"
      },
      "source": [
        "## Insights"
      ]
    },
    {
      "cell_type": "code",
      "metadata": {
        "id": "0J5Z3M84wmaY",
        "colab": {
          "base_uri": "https://localhost:8080/",
          "height": 582
        },
        "outputId": "51e6d8b4-1a9d-4833-fc89-3eb526a13421"
      },
      "source": [
        "import pandas as pd\n",
        "import numpy as np\n",
        "\n",
        "def insight1():\n",
        "    \n",
        "  dataframe = pd.read_csv(\"downloaddata2.csv\")\n",
        "  dataframe = dataframe.groupby(\"Year\").agg({\"Count\":\"sum\"}).reset_index()\n",
        "  dataframe = dataframe.rename(columns = {\"Count\":\"Cases\"})\n",
        "  dataframe = dataframe[94:].reset_index()\n",
        "  dataframe = dataframe.loc[:,\"Year\":]\n",
        "  dataframe = dataframe.rename(columns = {\"Cases\":\"Total Cases\"})\n",
        "  dataframe= dataframe.loc[:,\"Total Cases\":]\n",
        "\n",
        "  df = pd.read_csv(\"downloaddata1.csv\")\n",
        "  df.loc[:,\"Population_Infection_Rate\"] = df.loc[:,\"Population\"] * df.loc[:,\"Rate\"]\n",
        "  df = df.groupby([\"Year\"]).agg({\"Cases\":\"sum\"}).reset_index()\n",
        "  df = df.rename(columns = {\"Cases\": \"CA Cases\"})\n",
        "  df = df[:-2]\n",
        "\n",
        "  newdf = pd.concat([df,dataframe], axis = 1)\n",
        "  newdf.loc[:,\"% California\"]= ((newdf.loc[:,\"CA Cases\"]/newdf.loc[:,\"Total Cases\"])*100).round(decimals=2)\n",
        "\n",
        "  return(newdf)\n",
        "\n",
        "insight1()"
      ],
      "execution_count": 4,
      "outputs": [
        {
          "output_type": "execute_result",
          "data": {
            "text/html": [
              "<div>\n",
              "<style scoped>\n",
              "    .dataframe tbody tr th:only-of-type {\n",
              "        vertical-align: middle;\n",
              "    }\n",
              "\n",
              "    .dataframe tbody tr th {\n",
              "        vertical-align: top;\n",
              "    }\n",
              "\n",
              "    .dataframe thead th {\n",
              "        text-align: right;\n",
              "    }\n",
              "</style>\n",
              "<table border=\"1\" class=\"dataframe\">\n",
              "  <thead>\n",
              "    <tr style=\"text-align: right;\">\n",
              "      <th></th>\n",
              "      <th>Year</th>\n",
              "      <th>CA Cases</th>\n",
              "      <th>Total Cases</th>\n",
              "      <th>% California</th>\n",
              "    </tr>\n",
              "  </thead>\n",
              "  <tbody>\n",
              "    <tr>\n",
              "      <th>0</th>\n",
              "      <td>2001</td>\n",
              "      <td>95</td>\n",
              "      <td>165</td>\n",
              "      <td>57.58</td>\n",
              "    </tr>\n",
              "    <tr>\n",
              "      <th>1</th>\n",
              "      <td>2002</td>\n",
              "      <td>92</td>\n",
              "      <td>125</td>\n",
              "      <td>73.60</td>\n",
              "    </tr>\n",
              "    <tr>\n",
              "      <th>2</th>\n",
              "      <td>2003</td>\n",
              "      <td>92</td>\n",
              "      <td>125</td>\n",
              "      <td>73.60</td>\n",
              "    </tr>\n",
              "    <tr>\n",
              "      <th>3</th>\n",
              "      <td>2004</td>\n",
              "      <td>92</td>\n",
              "      <td>138</td>\n",
              "      <td>66.67</td>\n",
              "    </tr>\n",
              "    <tr>\n",
              "      <th>4</th>\n",
              "      <td>2005</td>\n",
              "      <td>120</td>\n",
              "      <td>141</td>\n",
              "      <td>85.11</td>\n",
              "    </tr>\n",
              "    <tr>\n",
              "      <th>5</th>\n",
              "      <td>2006</td>\n",
              "      <td>176</td>\n",
              "      <td>167</td>\n",
              "      <td>105.39</td>\n",
              "    </tr>\n",
              "    <tr>\n",
              "      <th>6</th>\n",
              "      <td>2007</td>\n",
              "      <td>84</td>\n",
              "      <td>142</td>\n",
              "      <td>59.15</td>\n",
              "    </tr>\n",
              "    <tr>\n",
              "      <th>7</th>\n",
              "      <td>2008</td>\n",
              "      <td>83</td>\n",
              "      <td>150</td>\n",
              "      <td>55.33</td>\n",
              "    </tr>\n",
              "    <tr>\n",
              "      <th>8</th>\n",
              "      <td>2009</td>\n",
              "      <td>103</td>\n",
              "      <td>122</td>\n",
              "      <td>84.43</td>\n",
              "    </tr>\n",
              "    <tr>\n",
              "      <th>9</th>\n",
              "      <td>2010</td>\n",
              "      <td>80</td>\n",
              "      <td>111</td>\n",
              "      <td>72.07</td>\n",
              "    </tr>\n",
              "    <tr>\n",
              "      <th>10</th>\n",
              "      <td>2011</td>\n",
              "      <td>106</td>\n",
              "      <td>135</td>\n",
              "      <td>78.52</td>\n",
              "    </tr>\n",
              "    <tr>\n",
              "      <th>11</th>\n",
              "      <td>2012</td>\n",
              "      <td>59</td>\n",
              "      <td>155</td>\n",
              "      <td>38.06</td>\n",
              "    </tr>\n",
              "    <tr>\n",
              "      <th>12</th>\n",
              "      <td>2013</td>\n",
              "      <td>60</td>\n",
              "      <td>154</td>\n",
              "      <td>38.96</td>\n",
              "    </tr>\n",
              "    <tr>\n",
              "      <th>13</th>\n",
              "      <td>2014</td>\n",
              "      <td>107</td>\n",
              "      <td>158</td>\n",
              "      <td>67.72</td>\n",
              "    </tr>\n",
              "    <tr>\n",
              "      <th>14</th>\n",
              "      <td>2015</td>\n",
              "      <td>72</td>\n",
              "      <td>199</td>\n",
              "      <td>36.18</td>\n",
              "    </tr>\n",
              "    <tr>\n",
              "      <th>15</th>\n",
              "      <td>2016</td>\n",
              "      <td>124</td>\n",
              "      <td>205</td>\n",
              "      <td>60.49</td>\n",
              "    </tr>\n",
              "    <tr>\n",
              "      <th>16</th>\n",
              "      <td>2017</td>\n",
              "      <td>158</td>\n",
              "      <td>181</td>\n",
              "      <td>87.29</td>\n",
              "    </tr>\n",
              "  </tbody>\n",
              "</table>\n",
              "</div>"
            ],
            "text/plain": [
              "    Year  CA Cases  Total Cases  % California\n",
              "0   2001        95          165         57.58\n",
              "1   2002        92          125         73.60\n",
              "2   2003        92          125         73.60\n",
              "3   2004        92          138         66.67\n",
              "4   2005       120          141         85.11\n",
              "5   2006       176          167        105.39\n",
              "6   2007        84          142         59.15\n",
              "7   2008        83          150         55.33\n",
              "8   2009       103          122         84.43\n",
              "9   2010        80          111         72.07\n",
              "10  2011       106          135         78.52\n",
              "11  2012        59          155         38.06\n",
              "12  2013        60          154         38.96\n",
              "13  2014       107          158         67.72\n",
              "14  2015        72          199         36.18\n",
              "15  2016       124          205         60.49\n",
              "16  2017       158          181         87.29"
            ]
          },
          "metadata": {},
          "execution_count": 4
        }
      ]
    },
    {
      "cell_type": "markdown",
      "metadata": {
        "id": "54oggrpbw6TX"
      },
      "source": [
        "### Insight 1 Explanation\n",
        "\n",
        "In our first insight we used the cleaned csv files from our two csv data sets. The first of which contained information from all of the states about infection over several years and the second contained only data from california infection rates. We then compiled those into dataframes with the totals from each years and combined the dataframes to look at what percentage of each years cases came from california. In doing so we found that one of the years said that California accounted for 105% of the cases that year which is statistically impossible. This showed us the inconsistencies across government data and helped us learn a valuable lesson about the reliability and collection of data. "
      ]
    },
    {
      "cell_type": "code",
      "metadata": {
        "id": "mJe4pMRgwuC5",
        "colab": {
          "base_uri": "https://localhost:8080/",
          "height": 206
        },
        "outputId": "05dec19a-277f-4d44-ea42-878c3fa0e03f"
      },
      "source": [
        "import pandas as pd\n",
        "import numpy as np\n",
        "import matplotlib.pyplot as plt\n",
        "\n",
        "def insight2(filename):\n",
        "  web_data1= pd.read_csv(filename)\n",
        "  #creates a new row which adds together all of the columns\n",
        "  web_data1.loc[4,:]= web_data1.sum(axis=0)\n",
        "  #renames the Catergory of the new row to be Total\n",
        "  web_data1.loc[4,\"Category\"]=\"Total\"\n",
        "  return(web_data1)\n",
        "\n",
        "############ Function Call ############\n",
        "newvis = insight2(\"webscrape.csv\")\n",
        "insight2(\"webscrape.csv\")"
      ],
      "execution_count": null,
      "outputs": [
        {
          "output_type": "execute_result",
          "data": {
            "text/html": [
              "<div>\n",
              "<style scoped>\n",
              "    .dataframe tbody tr th:only-of-type {\n",
              "        vertical-align: middle;\n",
              "    }\n",
              "\n",
              "    .dataframe tbody tr th {\n",
              "        vertical-align: top;\n",
              "    }\n",
              "\n",
              "    .dataframe thead th {\n",
              "        text-align: right;\n",
              "    }\n",
              "</style>\n",
              "<table border=\"1\" class=\"dataframe\">\n",
              "  <thead>\n",
              "    <tr style=\"text-align: right;\">\n",
              "      <th></th>\n",
              "      <th>Category</th>\n",
              "      <th>Number of Cases</th>\n",
              "      <th>Deaths</th>\n",
              "      <th>Male</th>\n",
              "      <th>Female</th>\n",
              "    </tr>\n",
              "  </thead>\n",
              "  <tbody>\n",
              "    <tr>\n",
              "      <th>0</th>\n",
              "      <td>Infant</td>\n",
              "      <td>141.0</td>\n",
              "      <td>0.0</td>\n",
              "      <td>69.0</td>\n",
              "      <td>72.0</td>\n",
              "    </tr>\n",
              "    <tr>\n",
              "      <th>1</th>\n",
              "      <td>Foodborne</td>\n",
              "      <td>19.0</td>\n",
              "      <td>3.0</td>\n",
              "      <td>11.0</td>\n",
              "      <td>8.0</td>\n",
              "    </tr>\n",
              "    <tr>\n",
              "      <th>2</th>\n",
              "      <td>Wound</td>\n",
              "      <td>19.0</td>\n",
              "      <td>0.0</td>\n",
              "      <td>15.0</td>\n",
              "      <td>4.0</td>\n",
              "    </tr>\n",
              "    <tr>\n",
              "      <th>3</th>\n",
              "      <td>Other</td>\n",
              "      <td>3.0</td>\n",
              "      <td>1.0</td>\n",
              "      <td>1.0</td>\n",
              "      <td>2.0</td>\n",
              "    </tr>\n",
              "    <tr>\n",
              "      <th>4</th>\n",
              "      <td>Total</td>\n",
              "      <td>182.0</td>\n",
              "      <td>4.0</td>\n",
              "      <td>96.0</td>\n",
              "      <td>86.0</td>\n",
              "    </tr>\n",
              "  </tbody>\n",
              "</table>\n",
              "</div>"
            ],
            "text/plain": [
              "    Category  Number of Cases  Deaths  Male  Female\n",
              "0     Infant            141.0     0.0  69.0    72.0\n",
              "1  Foodborne             19.0     3.0  11.0     8.0\n",
              "2      Wound             19.0     0.0  15.0     4.0\n",
              "3      Other              3.0     1.0   1.0     2.0\n",
              "4      Total            182.0     4.0  96.0    86.0"
            ]
          },
          "metadata": {},
          "execution_count": 21
        }
      ]
    },
    {
      "cell_type": "markdown",
      "metadata": {
        "id": "P08Se47bxG5d"
      },
      "source": [
        "### Insight 2 Explanation\n",
        "\n",
        "For this insight we used the cleaned csv file that we created from the web scrapped data in phase 2. The first step was to transform that csv into a pandas dataframe. Then we added a fourth row which took the sum of each of the columns. Becuase of the nature of the sggregtae sum function, it added all of the strings in category together which is why we had to rename that cell \"Ttotal\". The purpose of all of this was to compare number of cases and types of infection across men and women to gain insight into how the disease impacts the sexes differently."
      ]
    },
    {
      "cell_type": "code",
      "metadata": {
        "id": "00EurEXJwvxf",
        "colab": {
          "base_uri": "https://localhost:8080/",
          "height": 582
        },
        "outputId": "015211b9-b6b2-4875-83e2-66a4689ad807"
      },
      "source": [
        "import pandas as pd\n",
        "import numpy as np\n",
        "import csv\n",
        "\n",
        "def insight3():\n",
        "  with open(\"clean_json.csv\") as projectCsv:\n",
        "\n",
        "    finlist = []\n",
        "    allData = csv.reader(projectCsv, delimiter = \",\", quotechar = '\"')\n",
        "    dataList = list(allData)\n",
        "    #adds new\n",
        "  for line in dataList[:1]:\n",
        "    item = line[0:2] + [\"2017, Cases\",\"2016, Cases\",\"2015, Cases\",\"2014, Cases\",\"2013, Cases\"]\n",
        "    finlist.append(item)\n",
        "      \n",
        "  for line in dataList[1:]:\n",
        "    if line[0] != \"total\":\n",
        "      finlist.append(line)  \n",
        "\n",
        "  with open(\"newjson.csv\", \"w\") as fout:\n",
        "    writer = csv.writer(fout, lineterminator = '\\n')\n",
        "    writer.writerows(finlist)\n",
        "  second= pd.read_csv(\"newjson.csv\")\n",
        "  final= second.groupby([\"week\"]).agg({\"2017, Cases\":\"sum\", \"2016, Cases\":\"sum\",\"2015, Cases\":\"sum\",\"2014, Cases\":\"sum\", \"2013, Cases\":\"sum\"})\n",
        "  return(final)\n",
        "\n",
        "\n",
        "############ Function Call ############\n",
        "insight3()"
      ],
      "execution_count": null,
      "outputs": [
        {
          "output_type": "execute_result",
          "data": {
            "text/html": [
              "<div>\n",
              "<style scoped>\n",
              "    .dataframe tbody tr th:only-of-type {\n",
              "        vertical-align: middle;\n",
              "    }\n",
              "\n",
              "    .dataframe tbody tr th {\n",
              "        vertical-align: top;\n",
              "    }\n",
              "\n",
              "    .dataframe thead th {\n",
              "        text-align: right;\n",
              "    }\n",
              "</style>\n",
              "<table border=\"1\" class=\"dataframe\">\n",
              "  <thead>\n",
              "    <tr style=\"text-align: right;\">\n",
              "      <th></th>\n",
              "      <th>2017, Cases</th>\n",
              "      <th>2016, Cases</th>\n",
              "      <th>2015, Cases</th>\n",
              "      <th>2014, Cases</th>\n",
              "      <th>2013, Cases</th>\n",
              "    </tr>\n",
              "    <tr>\n",
              "      <th>week</th>\n",
              "      <th></th>\n",
              "      <th></th>\n",
              "      <th></th>\n",
              "      <th></th>\n",
              "      <th></th>\n",
              "    </tr>\n",
              "  </thead>\n",
              "  <tbody>\n",
              "    <tr>\n",
              "      <th>1</th>\n",
              "      <td>80</td>\n",
              "      <td>201</td>\n",
              "      <td>195</td>\n",
              "      <td>161</td>\n",
              "      <td>152</td>\n",
              "    </tr>\n",
              "    <tr>\n",
              "      <th>2</th>\n",
              "      <td>133</td>\n",
              "      <td>201</td>\n",
              "      <td>195</td>\n",
              "      <td>161</td>\n",
              "      <td>152</td>\n",
              "    </tr>\n",
              "    <tr>\n",
              "      <th>3</th>\n",
              "      <td>134</td>\n",
              "      <td>201</td>\n",
              "      <td>195</td>\n",
              "      <td>161</td>\n",
              "      <td>152</td>\n",
              "    </tr>\n",
              "    <tr>\n",
              "      <th>4</th>\n",
              "      <td>135</td>\n",
              "      <td>201</td>\n",
              "      <td>195</td>\n",
              "      <td>161</td>\n",
              "      <td>152</td>\n",
              "    </tr>\n",
              "    <tr>\n",
              "      <th>5</th>\n",
              "      <td>136</td>\n",
              "      <td>201</td>\n",
              "      <td>195</td>\n",
              "      <td>161</td>\n",
              "      <td>152</td>\n",
              "    </tr>\n",
              "    <tr>\n",
              "      <th>6</th>\n",
              "      <td>136</td>\n",
              "      <td>201</td>\n",
              "      <td>195</td>\n",
              "      <td>161</td>\n",
              "      <td>152</td>\n",
              "    </tr>\n",
              "    <tr>\n",
              "      <th>7</th>\n",
              "      <td>135</td>\n",
              "      <td>201</td>\n",
              "      <td>195</td>\n",
              "      <td>161</td>\n",
              "      <td>152</td>\n",
              "    </tr>\n",
              "    <tr>\n",
              "      <th>8</th>\n",
              "      <td>148</td>\n",
              "      <td>201</td>\n",
              "      <td>195</td>\n",
              "      <td>161</td>\n",
              "      <td>152</td>\n",
              "    </tr>\n",
              "    <tr>\n",
              "      <th>9</th>\n",
              "      <td>148</td>\n",
              "      <td>201</td>\n",
              "      <td>195</td>\n",
              "      <td>161</td>\n",
              "      <td>152</td>\n",
              "    </tr>\n",
              "    <tr>\n",
              "      <th>10</th>\n",
              "      <td>144</td>\n",
              "      <td>201</td>\n",
              "      <td>195</td>\n",
              "      <td>161</td>\n",
              "      <td>152</td>\n",
              "    </tr>\n",
              "    <tr>\n",
              "      <th>11</th>\n",
              "      <td>146</td>\n",
              "      <td>201</td>\n",
              "      <td>195</td>\n",
              "      <td>161</td>\n",
              "      <td>152</td>\n",
              "    </tr>\n",
              "    <tr>\n",
              "      <th>12</th>\n",
              "      <td>149</td>\n",
              "      <td>201</td>\n",
              "      <td>195</td>\n",
              "      <td>161</td>\n",
              "      <td>152</td>\n",
              "    </tr>\n",
              "    <tr>\n",
              "      <th>13</th>\n",
              "      <td>151</td>\n",
              "      <td>201</td>\n",
              "      <td>195</td>\n",
              "      <td>161</td>\n",
              "      <td>152</td>\n",
              "    </tr>\n",
              "    <tr>\n",
              "      <th>14</th>\n",
              "      <td>151</td>\n",
              "      <td>201</td>\n",
              "      <td>195</td>\n",
              "      <td>161</td>\n",
              "      <td>152</td>\n",
              "    </tr>\n",
              "    <tr>\n",
              "      <th>15</th>\n",
              "      <td>151</td>\n",
              "      <td>201</td>\n",
              "      <td>195</td>\n",
              "      <td>161</td>\n",
              "      <td>152</td>\n",
              "    </tr>\n",
              "    <tr>\n",
              "      <th>16</th>\n",
              "      <td>135</td>\n",
              "      <td>175</td>\n",
              "      <td>175</td>\n",
              "      <td>142</td>\n",
              "      <td>140</td>\n",
              "    </tr>\n",
              "  </tbody>\n",
              "</table>\n",
              "</div>"
            ],
            "text/plain": [
              "      2017, Cases  2016, Cases  2015, Cases  2014, Cases  2013, Cases\n",
              "week                                                                 \n",
              "1              80          201          195          161          152\n",
              "2             133          201          195          161          152\n",
              "3             134          201          195          161          152\n",
              "4             135          201          195          161          152\n",
              "5             136          201          195          161          152\n",
              "6             136          201          195          161          152\n",
              "7             135          201          195          161          152\n",
              "8             148          201          195          161          152\n",
              "9             148          201          195          161          152\n",
              "10            144          201          195          161          152\n",
              "11            146          201          195          161          152\n",
              "12            149          201          195          161          152\n",
              "13            151          201          195          161          152\n",
              "14            151          201          195          161          152\n",
              "15            151          201          195          161          152\n",
              "16            135          175          175          142          140"
            ]
          },
          "metadata": {},
          "execution_count": 22
        }
      ]
    },
    {
      "cell_type": "markdown",
      "metadata": {
        "id": "6QNP4yx2xHkT"
      },
      "source": [
        "### Insight 3 Explanation\n",
        "\n",
        "This insight uses the cleaned csv file from the json data set that we used in phase two and fixed during phase three. In this insight we begin by opening that csv file and adding a new row and then closing and wrting to a new csv file. We did this so that the data would be able to transfer over to a pandas dataframe in a meaningful way. Once the new file was created we turned it into a pandas dataframe and then grouped by week and took the sum of number of cases. We did this so that we would be able to compare infection rates at the same points across several years. We chose to compare the data from each week because this dataset was unique in havign that information and therefore could contribute the most meaningful insight through that information. "
      ]
    },
    {
      "cell_type": "code",
      "metadata": {
        "id": "LUWgj50BwwKN",
        "colab": {
          "base_uri": "https://localhost:8080/",
          "height": 143
        },
        "outputId": "d447b66d-50df-436c-a404-d171e2c1d265"
      },
      "source": [
        "import pandas as pd\n",
        "import numpy as np\n",
        "import matplotlib.pyplot as plt\n",
        "\n",
        "def insight4(filename):\n",
        "  dataframe = pd.read_csv(filename) \n",
        "\n",
        "  #removes Female and Male individual data\n",
        "  dataframe = dataframe[dataframe[\"Sex\"] == \"Total\"]\n",
        "\n",
        "  #Creates new column of Population Infection Rate, and groups by disease without making disease into an index\n",
        "  dataframe.loc[:,\"Population Infection Rate\"] = dataframe.loc[:,\"Population\"] * dataframe.loc[:,\"Rate\"] \n",
        "  dataframe = dataframe.groupby(\"Disease\").agg({\"Cases\":\"sum\", \"Population Infection Rate\":\"mean\"}).reset_index()\n",
        "  return(dataframe)\n",
        "\n",
        "piedf = insight4(\"downloaddata1.csv\")\n",
        "insight4(\"downloaddata1.csv\")"
      ],
      "execution_count": null,
      "outputs": [
        {
          "output_type": "execute_result",
          "data": {
            "text/html": [
              "<div>\n",
              "<style scoped>\n",
              "    .dataframe tbody tr th:only-of-type {\n",
              "        vertical-align: middle;\n",
              "    }\n",
              "\n",
              "    .dataframe tbody tr th {\n",
              "        vertical-align: top;\n",
              "    }\n",
              "\n",
              "    .dataframe thead th {\n",
              "        text-align: right;\n",
              "    }\n",
              "</style>\n",
              "<table border=\"1\" class=\"dataframe\">\n",
              "  <thead>\n",
              "    <tr style=\"text-align: right;\">\n",
              "      <th></th>\n",
              "      <th>Disease</th>\n",
              "      <th>Cases</th>\n",
              "      <th>Population Infection Rate</th>\n",
              "    </tr>\n",
              "  </thead>\n",
              "  <tbody>\n",
              "    <tr>\n",
              "      <th>0</th>\n",
              "      <td>Botulism, Foodborne</td>\n",
              "      <td>116</td>\n",
              "      <td>10425.614346</td>\n",
              "    </tr>\n",
              "    <tr>\n",
              "      <th>1</th>\n",
              "      <td>Botulism, Other</td>\n",
              "      <td>18</td>\n",
              "      <td>1631.252815</td>\n",
              "    </tr>\n",
              "    <tr>\n",
              "      <th>2</th>\n",
              "      <td>Botulism, Wound</td>\n",
              "      <td>884</td>\n",
              "      <td>78875.824661</td>\n",
              "    </tr>\n",
              "  </tbody>\n",
              "</table>\n",
              "</div>"
            ],
            "text/plain": [
              "               Disease  Cases  Population Infection Rate\n",
              "0  Botulism, Foodborne    116               10425.614346\n",
              "1      Botulism, Other     18                1631.252815\n",
              "2      Botulism, Wound    884               78875.824661"
            ]
          },
          "metadata": {},
          "execution_count": 23
        }
      ]
    },
    {
      "cell_type": "markdown",
      "metadata": {
        "id": "4Tv4xPG8xIIh"
      },
      "source": [
        "### Insight 4 Explanation\n",
        "\n",
        "This insight utilizes cleaned data from our first csv file. We imported our data into a pandas datframe and then created a new column displaying population infection rate. Our final dataframe was created by grouping the data by disease type, and then aggregating by sum of cases and mean of Populaiton Infections. This final table gave us insights about the amount of each type of botulism occured in California from 2001 to 2019 in total."
      ]
    },
    {
      "cell_type": "code",
      "metadata": {
        "id": "-2YUtUESwwgv",
        "colab": {
          "base_uri": "https://localhost:8080/"
        },
        "outputId": "d6f9130e-6093-4652-facc-e0f4947ba29a"
      },
      "source": [
        "import pandas as pd\n",
        "import numpy as np\n",
        "import matplotlib.pyplot as plt\n",
        "\n",
        "def insight5():\n",
        "  dataframe = pd.read_csv(\"downloaddata1.csv\")\n",
        "\n",
        "  #Creates new column of Population Infection Rate, and groups by disease without making disease into an index\n",
        "  dataframe.loc[:,\"Population_Infection_Rate\"] = dataframe.loc[:,\"Population\"] * dataframe.loc[:,\"Rate\"]\n",
        "  dataframe = dataframe.groupby([\"Disease\",\"Year\"]).agg({\"Cases\":\"sum\", \"Population_Infection_Rate\":\"mean\"}).reset_index()\n",
        "\n",
        "  #Creates sub-dataframes for each type of botulism, and then creates our visualization\n",
        "  foodbornedf = dataframe.iloc[0:19]\n",
        "  foodbornedf = foodbornedf.rename(columns = {\"Cases\":\"Foodborne Cases\"})\n",
        "  otherdf= dataframe.iloc[19:38]\n",
        "  otherdf = otherdf.rename(columns = {\"Cases\":\"Other Cases\"})\n",
        "  wounddf = dataframe.iloc[38:]\n",
        "  wounddf = wounddf.rename(columns = {\"Cases\":\"Wound Cases\"})\n",
        "\n",
        "  #displays our data in grouped lists of each type of botulism\n",
        "  return([foodbornedf,otherdf,wounddf])\n",
        "dflist = insight5()\n",
        "insight5()"
      ],
      "execution_count": null,
      "outputs": [
        {
          "output_type": "execute_result",
          "data": {
            "text/plain": [
              "[                Disease  Year  Foodborne Cases  Population_Infection_Rate\n",
              " 0   Botulism, Foodborne  2001               16                9251.944886\n",
              " 1   Botulism, Foodborne  2002                0                   0.000000\n",
              " 2   Botulism, Foodborne  2003                8                4557.205774\n",
              " 3   Botulism, Foodborne  2004               20               11285.852565\n",
              " 4   Botulism, Foodborne  2005               12                6704.915181\n",
              " 5   Botulism, Foodborne  2006               24               13645.355209\n",
              " 6   Botulism, Foodborne  2007                8                4428.028729\n",
              " 7   Botulism, Foodborne  2008               12                6723.888458\n",
              " 8   Botulism, Foodborne  2009               15                8656.619943\n",
              " 9   Botulism, Foodborne  2010                4                2284.660119\n",
              " 10  Botulism, Foodborne  2011                4                2280.540096\n",
              " 11  Botulism, Foodborne  2012               12                6726.889424\n",
              " 12  Botulism, Foodborne  2013                4                2326.155282\n",
              " 13  Botulism, Foodborne  2014                0                   0.000000\n",
              " 14  Botulism, Foodborne  2015                4                2339.186915\n",
              " 15  Botulism, Foodborne  2016               20               11302.288090\n",
              " 16  Botulism, Foodborne  2017               59               33761.805160\n",
              " 17  Botulism, Foodborne  2018                0                   0.000000\n",
              " 18  Botulism, Foodborne  2019                8                4522.761113,\n",
              "             Disease  Year  Other Cases  Population_Infection_Rate\n",
              " 19  Botulism, Other  2001            0                   0.000000\n",
              " 20  Botulism, Other  2002            0                   0.000000\n",
              " 21  Botulism, Other  2003            0                   0.000000\n",
              " 22  Botulism, Other  2004            0                   0.000000\n",
              " 23  Botulism, Other  2005            0                   0.000000\n",
              " 24  Botulism, Other  2006            0                   0.000000\n",
              " 25  Botulism, Other  2007            0                   0.000000\n",
              " 26  Botulism, Other  2008            0                   0.000000\n",
              " 27  Botulism, Other  2009            0                   0.000000\n",
              " 28  Botulism, Other  2010            0                   0.000000\n",
              " 29  Botulism, Other  2011           12                6781.112814\n",
              " 30  Botulism, Other  2012            7                3991.149606\n",
              " 31  Botulism, Other  2013            0                   0.000000\n",
              " 32  Botulism, Other  2014            4                2331.661130\n",
              " 33  Botulism, Other  2015            0                   0.000000\n",
              " 34  Botulism, Other  2016            0                   0.000000\n",
              " 35  Botulism, Other  2017           12                6883.058023\n",
              " 36  Botulism, Other  2018            0                   0.000000\n",
              " 37  Botulism, Other  2019            0                   0.000000,\n",
              "             Disease  Year  Wound Cases  Population_Infection_Rate\n",
              " 38  Botulism, Wound  2001           79               45134.267360\n",
              " 39  Botulism, Wound  2002           92               52017.962418\n",
              " 40  Botulism, Wound  2003           84               47384.700723\n",
              " 41  Botulism, Wound  2004           72               40623.834006\n",
              " 42  Botulism, Wound  2005          108               61052.802000\n",
              " 43  Botulism, Wound  2006          152               85927.530972\n",
              " 44  Botulism, Wound  2007           76               42999.025667\n",
              " 45  Botulism, Wound  2008           71               40534.939691\n",
              " 46  Botulism, Wound  2009           88               49601.538418\n",
              " 47  Botulism, Wound  2010           76               42862.084209\n",
              " 48  Botulism, Wound  2011           90               50838.772141\n",
              " 49  Botulism, Wound  2012           40               22541.746910\n",
              " 50  Botulism, Wound  2013           56               31537.616407\n",
              " 51  Botulism, Wound  2014          103               58899.783423\n",
              " 52  Botulism, Wound  2015           68               38517.771328\n",
              " 53  Botulism, Wound  2016          104               58661.500701\n",
              " 54  Botulism, Wound  2017           87               49769.561331\n",
              " 55  Botulism, Wound  2018          199              113823.589794\n",
              " 56  Botulism, Wound  2019          116               65590.823701]"
            ]
          },
          "metadata": {},
          "execution_count": 24
        }
      ]
    },
    {
      "cell_type": "markdown",
      "metadata": {
        "id": "JabcFGP9xIyn"
      },
      "source": [
        "### Insight 5 Explanation\n",
        "\n",
        "This insight utilizes cleaned data from our first csv file. We imported our data into a pandas datframe and then created a new column displaying population infection rate. We then grouping the data by disease type and year, and then aggregated by sum of cases and mean of Populaiton Infections. We then created three different dataframes for each different type of botulism and put them into a list. This final output gave us insights about the amount of each type of botulism occured in California for each year from 2001 to 2019."
      ]
    },
    {
      "cell_type": "markdown",
      "metadata": {
        "id": "xN58r5MNxN4m"
      },
      "source": [
        "## Data Visualizations"
      ]
    },
    {
      "cell_type": "code",
      "metadata": {
        "id": "stKXZGSnxS0f",
        "colab": {
          "base_uri": "https://localhost:8080/",
          "height": 559
        },
        "outputId": "f551ee6e-99f8-4891-a77e-9d9f9c11bb47"
      },
      "source": [
        "def visual1(visual):\n",
        "  plt.rcParams['text.color'] = 'black'\n",
        "  plt.yticks(color = 'white')\n",
        "  plt.xticks(color = \"white\")\n",
        "  newvis.plot.bar(x=\"Category\", y=[\"Male\",\"Female\"], color=['maroon','indianred'], rot=0)\n",
        "  plt.xlabel('Type of Botulism Infection', fontweight='bold', color = 'white', fontsize='17', horizontalalignment='center')\n",
        "  plt.ylabel('Number of Cases', fontweight='bold', color = 'white', fontsize='17', horizontalalignment='center')\n",
        "  plt.title('Number of Cases per Type of Infection, 2017', fontweight='bold', color = 'white', fontsize='17', horizontalalignment='center')\n",
        "  plt.tick_params(axis='x', colors='white')\n",
        "  plt.tick_params(axis='y', colors='white')\n",
        "  plt.savefig('2017caseswGender.png')\n",
        "  plt.show()\n",
        "\n",
        "############ Function Call ############\n",
        "visual1(newvis)"
      ],
      "execution_count": null,
      "outputs": [
        {
          "output_type": "display_data",
          "data": {
            "image/png": "[encoded data removed]",
            "text/plain": [
              "<Figure size 432x288 with 1 Axes>"
            ]
          },
          "metadata": {
            "needs_background": "dark"
          }
        },
        {
          "output_type": "display_data",
          "data": {
            "image/png": "[encoded data removed]",
            "text/plain": [
              "<Figure size 432x288 with 1 Axes>"
            ]
          },
          "metadata": {
            "needs_background": "dark"
          }
        }
      ]
    },
    {
      "cell_type": "markdown",
      "metadata": {
        "id": "-CDB8hXwxgSB"
      },
      "source": [
        "### Visualization 1 Explanation\n",
        "\n",
        "Our first Visualization displays the Number of Cases per Type of Infection, 2017 using our dataframe created in insight 2. This visulaization breaks down data about gender and each different case type. It shows that there is realatively little different between each type of infection and gender.\n",
        "\n",
        "Here it's important to note that many of the features on this visualization were made to be white so that the plot stood out more on our darker-backgrounded presentation."
      ]
    },
    {
      "cell_type": "code",
      "metadata": {
        "id": "vACib_mBxW0E",
        "colab": {
          "base_uri": "https://localhost:8080/",
          "height": 307
        },
        "outputId": "7243fb61-8e9d-4e1d-d8ff-13bc663f9db1"
      },
      "source": [
        " def visual2(df):\n",
        "  df = pd.read_csv(\"downloaddata2.csv\")\n",
        "  df = df.groupby(\"Year\").agg({\"Count\":\"sum\"}).reset_index()\n",
        "  df = df.rename(columns = {\"Count\":\"Cases\"})\n",
        "  df.plot(kind='line',x='Year',y='Cases', color='maroon')\n",
        "  plt.title('Years')\n",
        "  plt.yticks(color = 'white')\n",
        "  plt.xticks([1900,1920,1940,1960,1980,2000,2020], color = \"white\")\n",
        "  plt.xlabel('Year', fontweight='bold', color = 'white', fontsize='17', horizontalalignment='center')\n",
        "  plt.ylabel('Number of Cases', fontweight='bold', color = 'white', fontsize='17', horizontalalignment='center')\n",
        "  plt.title('Number of Cases per Year', fontweight='bold', color = 'white', fontsize='17', horizontalalignment='center')\n",
        "  plt.tick_params(axis='x', colors='white')\n",
        "  plt.tick_params(axis='y', colors='white')\n",
        "  plt.savefig('totCasesperYear.png')\n",
        "  plt.show()\n",
        "\n",
        "##################\n",
        "visual2(df)"
      ],
      "execution_count": null,
      "outputs": [
        {
          "output_type": "display_data",
          "data": {
            "image/png": "[encoded data removed]",
            "text/plain": [
              "<Figure size 432x288 with 1 Axes>"
            ]
          },
          "metadata": {
            "needs_background": "dark"
          }
        }
      ]
    },
    {
      "cell_type": "markdown",
      "metadata": {
        "id": "hbq6zDSuxg3b"
      },
      "source": [
        "### Visualization 2 Explanation\n",
        "\n",
        "Our second visualization displays data from our 2nd csv file. First, data from our second csv file was grouped by year and the count of total cases was found for each year by summing the number of cases in all states per year. Then we created a visualization to show the number of Botulism cases per year in the United States from 1900 to 2017. \n",
        "\n",
        "Here it's important to note that many of the features on this visualization were made to be white so that the plot stood out more on our darker-backgrounded presentation."
      ]
    },
    {
      "cell_type": "code",
      "source": [
        "def visual3(df):\n",
        "  plt.rcParams['text.color'] = 'white'\n",
        "  my_colors = ['firebrick','indianred','maroon']\n",
        "  my_explode = (0.1, 0.1, 0.1)\n",
        "  plt.pie(df[\"Cases\"],labels=df[\"Disease\"],autopct='%1.1f%%', colors = my_colors, explode = my_explode)\n",
        "  plt.title('Ratios of Case Types', fontweight='bold', color = 'white', fontsize='17', horizontalalignment='center')\n",
        "  plt.axis('equal')\n",
        "  plt.savefig('ratiosOfCaseTypes.png')\n",
        "  plt.show()\n",
        "\n",
        "###################\n",
        "\n",
        "visual3(piedf)"
      ],
      "metadata": {
        "colab": {
          "base_uri": "https://localhost:8080/",
          "height": 268
        },
        "id": "SbByFunQ2wkL",
        "outputId": "31f757bd-e278-4e0b-fe70-05f5825aa368"
      },
      "execution_count": null,
      "outputs": [
        {
          "output_type": "display_data",
          "data": {
            "image/png": "[encoded data removed]",
            "text/plain": [
              "<Figure size 432x288 with 1 Axes>"
            ]
          },
          "metadata": {}
        }
      ]
    },
    {
      "cell_type": "markdown",
      "source": [
        "### Visualization 3 Explanation\n",
        "Our third visualization displays data from our 4th insight. We created a visualization to show the ratios of different case types out of the total. This visualization shows information extrapolated about the amount of each type of botulism occured in California from 2001 to 2019 in total.\n",
        "\n",
        "Here it's important to note that many of the features on this visualization were made to be white so that the plot stood out more on our darker-backgrounded presentation."
      ],
      "metadata": {
        "id": "Wj1bf0oY2zRI"
      }
    },
    {
      "cell_type": "code",
      "metadata": {
        "id": "mOyKClx1xXOt",
        "colab": {
          "base_uri": "https://localhost:8080/",
          "height": 307
        },
        "outputId": "e2b4e7dd-4e00-48a3-fa89-11d8f4f018a0"
      },
      "source": [
        "def visual4(dflist):\n",
        "  ax1 = plt.gca()\n",
        "  plt.rcParams['text.color'] = 'black'\n",
        "  dflist[0].plot(kind='line',x='Year',y='Foodborne Cases', color='maroon', ax = ax1)\n",
        "  dflist[1].plot(kind='line',x='Year',y='Other Cases', color='firebrick', ax=ax1)\n",
        "  dflist[2].plot(kind='line',x='Year',y='Wound Cases', color='indianred', ax=ax1)\n",
        "  plt.title('Years')\n",
        "  plt.yticks(color = 'white')\n",
        "  plt.xticks([2001,2003,2005,2007,2009,2011,2013,2015,2017,2019], color = \"white\")\n",
        "  plt.xlabel('Year', fontweight='bold', color = 'white', fontsize='17', horizontalalignment='center')\n",
        "  plt.ylabel('Number of Cases', fontweight='bold', color = 'white', fontsize='17', horizontalalignment='center')\n",
        "  plt.title('Number of Cases per Year in California', fontweight='bold', color = 'white', fontsize='17', horizontalalignment='center')\n",
        "  plt.tick_params(axis='x', colors='white')\n",
        "  plt.tick_params(axis='y', colors='white')\n",
        "  plt.savefig('NumberofCasesperYearCali.png')\n",
        "  plt.show()\n",
        "\n",
        "###################\n",
        "\n",
        "visual4(dflist)"
      ],
      "execution_count": null,
      "outputs": [
        {
          "output_type": "display_data",
          "data": {
            "image/png": "[encoded data removed]",
            "text/plain": [
              "<Figure size 432x288 with 1 Axes>"
            ]
          },
          "metadata": {
            "needs_background": "dark"
          }
        }
      ]
    },
    {
      "cell_type": "markdown",
      "metadata": {
        "id": "YLZvX6Plxhhs"
      },
      "source": [
        "### Visualization 4 Explanation\n",
        "\n",
        "Our final visualization was created to show the Number of Cases per year of each type of Botulism. This graph allows for further comparison between the types of botulism, and re-emphasizes that wound-caused botulism is the most commonly occuring type of botulism. This visualization was created with data from our fifth insight. \n",
        "\n",
        "Here it's important to note that many of the features on this visualization were made to be white so that the plot stood out more on our darker-backgrounded presentation."
      ]
    },
    {
      "cell_type": "markdown",
      "metadata": {
        "id": "vw5PqFI8xs0B"
      },
      "source": [
        "## Summary File"
      ]
    },
    {
      "cell_type": "code",
      "metadata": {
        "id": "1U36oIX5xvlR"
      },
      "source": [
        "def summary1():\n",
        "  outdf = insight1()\n",
        "  outdf.to_csv(\"summaryfile\")\n",
        "  \n",
        "############ Function Call ############\n",
        "summary1()"
      ],
      "execution_count": 7,
      "outputs": []
    },
    {
      "cell_type": "markdown",
      "metadata": {
        "id": "kd74HqEPx8zh"
      },
      "source": [
        "# Cited Sources\n",
        "\n",
        "If you used any additional sources to complete your Data Analysis section, list them here:\n",
        "\n",
        "\n",
        "*   https://matplotlib.org/stable/users/index.html\n",
        "\n"
      ]
    },
    {
      "cell_type": "markdown",
      "metadata": {
        "id": "iuYbFQplyXK2"
      },
      "source": [
        "# Video Presentation\n",
        "\n",
        "If you uploaded your Video Presentation to Bluejeans, YouTube, or any other streaming services, please provide the link here:\n",
        "\n",
        "\n",
        "*   Video Presentation Link\n",
        "https://youtu.be/5J74fEOogIo \n",
        "\n",
        "\n",
        "Make sure the video sharing permissions are accessible for anyone with the provided link."
      ]
    },
    {
      "cell_type": "markdown",
      "metadata": {
        "id": "mZENd-i9cinj"
      },
      "source": [
        "# Submission\n",
        "\n",
        "Prior to submitting your notebook to Gradescope, be sure to <b>run all functions within this file</b>. We will not run your functions ourselves, so we must see your outputs within this file in order to receive full credit.\n"
      ]
    }
  ]
}